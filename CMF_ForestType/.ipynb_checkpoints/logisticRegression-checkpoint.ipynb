{
 "cells": [
  {
   "cell_type": "markdown",
   "metadata": {},
   "source": [
    "# CMF Data Analysis Training"
   ]
  },
  {
   "cell_type": "markdown",
   "metadata": {},
   "source": [
    "## Initialisation"
   ]
  },
  {
   "cell_type": "code",
   "execution_count": 2,
   "metadata": {
    "collapsed": true
   },
   "outputs": [],
   "source": [
    "import pandas as pd\n",
    "import numpy as np\n",
    "%matplotlib inline"
   ]
  },
  {
   "cell_type": "markdown",
   "metadata": {},
   "source": [
    "## Loading and preparing data"
   ]
  },
  {
   "cell_type": "code",
   "execution_count": 3,
   "metadata": {
    "collapsed": false
   },
   "outputs": [],
   "source": [
    "train = pd.read_csv('data/train.csv')\n",
    "test = pd.read_csv('data/test.csv')\n",
    "sample = pd.read_csv('data/sample.csv')"
   ]
  },
  {
   "cell_type": "code",
   "execution_count": 13,
   "metadata": {
    "collapsed": false
   },
   "outputs": [
    {
     "name": "stdout",
     "output_type": "stream",
     "text": [
      "Train shape:  (551012, 57)\n",
      "Test shape:  (30000, 55)\n",
      "Sample shape  (30000, 8)\n"
     ]
    }
   ],
   "source": [
    "print('Train shape: ', train.shape)\n",
    "print('Test shape: ', test.shape)\n",
    "print('Sample shape ', sample.shape)"
   ]
  },
  {
   "cell_type": "code",
   "execution_count": 16,
   "metadata": {
    "collapsed": false
   },
   "outputs": [
    {
     "name": "stdout",
     "output_type": "stream",
     "text": [
      "<class 'pandas.core.frame.DataFrame'>\n",
      "Int64Index: 551012 entries, 0 to 551011\n",
      "Data columns (total 57 columns):\n",
      "Unnamed: 0                            551012 non-null int64\n",
      "Cover_Type                            551012 non-null object\n",
      "ID                                    551012 non-null int64\n",
      "Elevation                             551012 non-null int64\n",
      "Aspect                                551012 non-null int64\n",
      "Slope                                 551012 non-null int64\n",
      "Horizontal_Distance_To_Hydrology      551012 non-null int64\n",
      "Vertical_Distance_To_Hydrology        551012 non-null int64\n",
      "Horizontal_Distance_To_Roadways       551012 non-null int64\n",
      "Hillshade_9am                         551012 non-null int64\n",
      "Hillshade_Noon                        551012 non-null int64\n",
      "Hillshade_3pm                         551012 non-null int64\n",
      "Horizontal_Distance_To_Fire_Points    551012 non-null int64\n",
      "Wilderness_Area_0                     551012 non-null int64\n",
      "Wilderness_Area_1                     551012 non-null int64\n",
      "Wilderness_Area_2                     551012 non-null int64\n",
      "Wilderness_Area_3                     551012 non-null int64\n",
      "Soil_Type_0                           551012 non-null int64\n",
      "Soil_Type_1                           551012 non-null int64\n",
      "Soil_Type_2                           551012 non-null int64\n",
      "Soil_Type_3                           551012 non-null int64\n",
      "Soil_Type_4                           551012 non-null int64\n",
      "Soil_Type_5                           551012 non-null int64\n",
      "Soil_Type_6                           551012 non-null int64\n",
      "Soil_Type_7                           551012 non-null int64\n",
      "Soil_Type_8                           551012 non-null int64\n",
      "Soil_Type_9                           551012 non-null int64\n",
      "Soil_Type_10                          551012 non-null int64\n",
      "Soil_Type_11                          551012 non-null int64\n",
      "Soil_Type_12                          551012 non-null int64\n",
      "Soil_Type_13                          551012 non-null int64\n",
      "Soil_Type_14                          551012 non-null int64\n",
      "Soil_Type_15                          551012 non-null int64\n",
      "Soil_Type_16                          551012 non-null int64\n",
      "Soil_Type_17                          551012 non-null int64\n",
      "Soil_Type_18                          551012 non-null int64\n",
      "Soil_Type_19                          551012 non-null int64\n",
      "Soil_Type_20                          551012 non-null int64\n",
      "Soil_Type_21                          551012 non-null int64\n",
      "Soil_Type_22                          551012 non-null int64\n",
      "Soil_Type_23                          551012 non-null int64\n",
      "Soil_Type_24                          551012 non-null int64\n",
      "Soil_Type_25                          551012 non-null int64\n",
      "Soil_Type_26                          551012 non-null int64\n",
      "Soil_Type_27                          551012 non-null int64\n",
      "Soil_Type_28                          551012 non-null int64\n",
      "Soil_Type_29                          551012 non-null int64\n",
      "Soil_Type_30                          551012 non-null int64\n",
      "Soil_Type_31                          551012 non-null int64\n",
      "Soil_Type_32                          551012 non-null int64\n",
      "Soil_Type_33                          551012 non-null int64\n",
      "Soil_Type_34                          551012 non-null int64\n",
      "Soil_Type_35                          551012 non-null int64\n",
      "Soil_Type_36                          551012 non-null int64\n",
      "Soil_Type_37                          551012 non-null int64\n",
      "Soil_Type_38                          551012 non-null int64\n",
      "Soil_Type_39                          551012 non-null int64\n",
      "dtypes: int64(56), object(1)\n",
      "memory usage: 243.8+ MB\n"
     ]
    }
   ],
   "source": [
    "train.info()"
   ]
  },
  {
   "cell_type": "markdown",
   "metadata": {
    "collapsed": true
   },
   "source": [
    "#### Data Fields\n",
    "\n",
    "* Elevation - Elevation in meters\n",
    "* Aspect - Aspect in degrees azimuth\n",
    "* Slope - Slope in degrees\n",
    "* Horizontal_Distance_To_Hydrology - Horz Dist to nearest surface water features\n",
    "* Vertical_Distance_To_Hydrology - Vert Dist to nearest surface water features\n",
    "* Horizontal_Distance_To_Roadways - Horz Dist to nearest roadway\n",
    "* Hillshade_9am (0 to 255 index) - Hillshade index at 9am, summer solstice\n",
    "* Hillshade_Noon (0 to 255 index) - Hillshade index at noon, summer solstice\n",
    "* Hillshade_3pm (0 to 255 index) - Hillshade index at 3pm, summer solstice\n",
    "* Horizontal_Distance_To_Fire_Points - Horz Dist to nearest wildfire ignition points\n",
    "* Wilderness_Area (4 binary columns, 0 = absence or 1 = presence) - Wilderness area designation\n",
    "* Soil_Type (40 binary columns, 0 = absence or 1 = presence) - Soil Type designation\n",
    "* Cover_Type (7 types, integers 1 to 7) - Forest Cover Type designation"
   ]
  },
  {
   "cell_type": "code",
   "execution_count": 26,
   "metadata": {
    "collapsed": false
   },
   "outputs": [
    {
     "data": {
      "text/html": [
       "<div>\n",
       "<table border=\"1\" class=\"dataframe\">\n",
       "  <thead>\n",
       "    <tr style=\"text-align: right;\">\n",
       "      <th></th>\n",
       "      <th>Unnamed: 0</th>\n",
       "      <th>Cover_Type</th>\n",
       "      <th>ID</th>\n",
       "      <th>Elevation</th>\n",
       "      <th>Aspect</th>\n",
       "      <th>Slope</th>\n",
       "      <th>Horizontal_Distance_To_Hydrology</th>\n",
       "      <th>Vertical_Distance_To_Hydrology</th>\n",
       "      <th>Horizontal_Distance_To_Roadways</th>\n",
       "      <th>Hillshade_9am</th>\n",
       "      <th>...</th>\n",
       "      <th>Soil_Type_30</th>\n",
       "      <th>Soil_Type_31</th>\n",
       "      <th>Soil_Type_32</th>\n",
       "      <th>Soil_Type_33</th>\n",
       "      <th>Soil_Type_34</th>\n",
       "      <th>Soil_Type_35</th>\n",
       "      <th>Soil_Type_36</th>\n",
       "      <th>Soil_Type_37</th>\n",
       "      <th>Soil_Type_38</th>\n",
       "      <th>Soil_Type_39</th>\n",
       "    </tr>\n",
       "  </thead>\n",
       "  <tbody>\n",
       "    <tr>\n",
       "      <th>0</th>\n",
       "      <td>0</td>\n",
       "      <td>Aspen</td>\n",
       "      <td>30000</td>\n",
       "      <td>2708</td>\n",
       "      <td>83</td>\n",
       "      <td>28</td>\n",
       "      <td>120</td>\n",
       "      <td>58</td>\n",
       "      <td>120</td>\n",
       "      <td>245</td>\n",
       "      <td>...</td>\n",
       "      <td>0</td>\n",
       "      <td>0</td>\n",
       "      <td>0</td>\n",
       "      <td>0</td>\n",
       "      <td>0</td>\n",
       "      <td>0</td>\n",
       "      <td>0</td>\n",
       "      <td>0</td>\n",
       "      <td>0</td>\n",
       "      <td>0</td>\n",
       "    </tr>\n",
       "    <tr>\n",
       "      <th>1</th>\n",
       "      <td>1</td>\n",
       "      <td>Lodgepole Pine</td>\n",
       "      <td>30001</td>\n",
       "      <td>2572</td>\n",
       "      <td>110</td>\n",
       "      <td>15</td>\n",
       "      <td>60</td>\n",
       "      <td>8</td>\n",
       "      <td>934</td>\n",
       "      <td>245</td>\n",
       "      <td>...</td>\n",
       "      <td>0</td>\n",
       "      <td>0</td>\n",
       "      <td>0</td>\n",
       "      <td>0</td>\n",
       "      <td>0</td>\n",
       "      <td>0</td>\n",
       "      <td>0</td>\n",
       "      <td>0</td>\n",
       "      <td>0</td>\n",
       "      <td>0</td>\n",
       "    </tr>\n",
       "    <tr>\n",
       "      <th>2</th>\n",
       "      <td>2</td>\n",
       "      <td>Lodgepole Pine</td>\n",
       "      <td>30002</td>\n",
       "      <td>3200</td>\n",
       "      <td>64</td>\n",
       "      <td>16</td>\n",
       "      <td>124</td>\n",
       "      <td>24</td>\n",
       "      <td>1442</td>\n",
       "      <td>233</td>\n",
       "      <td>...</td>\n",
       "      <td>0</td>\n",
       "      <td>0</td>\n",
       "      <td>0</td>\n",
       "      <td>0</td>\n",
       "      <td>0</td>\n",
       "      <td>0</td>\n",
       "      <td>0</td>\n",
       "      <td>0</td>\n",
       "      <td>0</td>\n",
       "      <td>0</td>\n",
       "    </tr>\n",
       "    <tr>\n",
       "      <th>3</th>\n",
       "      <td>3</td>\n",
       "      <td>Lodgepole Pine</td>\n",
       "      <td>30003</td>\n",
       "      <td>2625</td>\n",
       "      <td>46</td>\n",
       "      <td>19</td>\n",
       "      <td>371</td>\n",
       "      <td>7</td>\n",
       "      <td>1020</td>\n",
       "      <td>222</td>\n",
       "      <td>...</td>\n",
       "      <td>0</td>\n",
       "      <td>0</td>\n",
       "      <td>0</td>\n",
       "      <td>0</td>\n",
       "      <td>0</td>\n",
       "      <td>0</td>\n",
       "      <td>0</td>\n",
       "      <td>0</td>\n",
       "      <td>0</td>\n",
       "      <td>0</td>\n",
       "    </tr>\n",
       "    <tr>\n",
       "      <th>4</th>\n",
       "      <td>4</td>\n",
       "      <td>Ponderosa Pine</td>\n",
       "      <td>30004</td>\n",
       "      <td>2340</td>\n",
       "      <td>94</td>\n",
       "      <td>16</td>\n",
       "      <td>30</td>\n",
       "      <td>8</td>\n",
       "      <td>421</td>\n",
       "      <td>243</td>\n",
       "      <td>...</td>\n",
       "      <td>0</td>\n",
       "      <td>0</td>\n",
       "      <td>0</td>\n",
       "      <td>0</td>\n",
       "      <td>0</td>\n",
       "      <td>0</td>\n",
       "      <td>0</td>\n",
       "      <td>0</td>\n",
       "      <td>0</td>\n",
       "      <td>0</td>\n",
       "    </tr>\n",
       "  </tbody>\n",
       "</table>\n",
       "<p>5 rows × 57 columns</p>\n",
       "</div>"
      ],
      "text/plain": [
       "   Unnamed: 0      Cover_Type     ID  Elevation  Aspect  Slope  \\\n",
       "0           0           Aspen  30000       2708      83     28   \n",
       "1           1  Lodgepole Pine  30001       2572     110     15   \n",
       "2           2  Lodgepole Pine  30002       3200      64     16   \n",
       "3           3  Lodgepole Pine  30003       2625      46     19   \n",
       "4           4  Ponderosa Pine  30004       2340      94     16   \n",
       "\n",
       "   Horizontal_Distance_To_Hydrology  Vertical_Distance_To_Hydrology  \\\n",
       "0                               120                              58   \n",
       "1                                60                               8   \n",
       "2                               124                              24   \n",
       "3                               371                               7   \n",
       "4                                30                               8   \n",
       "\n",
       "   Horizontal_Distance_To_Roadways  Hillshade_9am      ...       Soil_Type_30  \\\n",
       "0                              120            245      ...                  0   \n",
       "1                              934            245      ...                  0   \n",
       "2                             1442            233      ...                  0   \n",
       "3                             1020            222      ...                  0   \n",
       "4                              421            243      ...                  0   \n",
       "\n",
       "   Soil_Type_31  Soil_Type_32  Soil_Type_33  Soil_Type_34  Soil_Type_35  \\\n",
       "0             0             0             0             0             0   \n",
       "1             0             0             0             0             0   \n",
       "2             0             0             0             0             0   \n",
       "3             0             0             0             0             0   \n",
       "4             0             0             0             0             0   \n",
       "\n",
       "   Soil_Type_36  Soil_Type_37  Soil_Type_38  Soil_Type_39  \n",
       "0             0             0             0             0  \n",
       "1             0             0             0             0  \n",
       "2             0             0             0             0  \n",
       "3             0             0             0             0  \n",
       "4             0             0             0             0  \n",
       "\n",
       "[5 rows x 57 columns]"
      ]
     },
     "execution_count": 26,
     "metadata": {},
     "output_type": "execute_result"
    }
   ],
   "source": [
    "train.head()"
   ]
  },
  {
   "cell_type": "code",
   "execution_count": 28,
   "metadata": {
    "collapsed": false
   },
   "outputs": [
    {
     "data": {
      "text/plain": [
       "Lodgepole Pine       268556\n",
       "Spruce fir           201020\n",
       "Ponderosa Pine        33896\n",
       "Krummholz             19415\n",
       "Douglas fir           16501\n",
       "Aspen                  9028\n",
       "Cottonwood/Willow      2596\n",
       "Name: Cover_Type, dtype: int64"
      ]
     },
     "execution_count": 28,
     "metadata": {},
     "output_type": "execute_result"
    }
   ],
   "source": [
    "coverType = train.Cover_Type\n",
    "coverType.value_counts()"
   ]
  },
  {
   "cell_type": "code",
   "execution_count": 31,
   "metadata": {
    "collapsed": true
   },
   "outputs": [],
   "source": [
    "testId = test.ID\n",
    "train.drop(['Unnamed: 0', 'Cover_Type', 'ID'], axis=1, inplace=True)\n",
    "test.drop(['ID'], axis=1, inplace=True)\n",
    "train['Test'] = False\n",
    "test['Test'] = True\n",
    "data = pd.concat([train, test], ignore_index=True)"
   ]
  },
  {
   "cell_type": "markdown",
   "metadata": {},
   "source": [
    "## Data wrangling"
   ]
  },
  {
   "cell_type": "code",
   "execution_count": 32,
   "metadata": {
    "collapsed": false
   },
   "outputs": [
    {
     "name": "stdout",
     "output_type": "stream",
     "text": [
      "<class 'pandas.core.frame.DataFrame'>\n",
      "Int64Index: 581012 entries, 0 to 581011\n",
      "Data columns (total 55 columns):\n",
      "Elevation                             581012 non-null int64\n",
      "Aspect                                581012 non-null int64\n",
      "Slope                                 581012 non-null int64\n",
      "Horizontal_Distance_To_Hydrology      581012 non-null int64\n",
      "Vertical_Distance_To_Hydrology        581012 non-null int64\n",
      "Horizontal_Distance_To_Roadways       581012 non-null int64\n",
      "Hillshade_9am                         581012 non-null int64\n",
      "Hillshade_Noon                        581012 non-null int64\n",
      "Hillshade_3pm                         581012 non-null int64\n",
      "Horizontal_Distance_To_Fire_Points    581012 non-null int64\n",
      "Wilderness_Area_0                     581012 non-null int64\n",
      "Wilderness_Area_1                     581012 non-null int64\n",
      "Wilderness_Area_2                     581012 non-null int64\n",
      "Wilderness_Area_3                     581012 non-null int64\n",
      "Soil_Type_0                           581012 non-null int64\n",
      "Soil_Type_1                           581012 non-null int64\n",
      "Soil_Type_2                           581012 non-null int64\n",
      "Soil_Type_3                           581012 non-null int64\n",
      "Soil_Type_4                           581012 non-null int64\n",
      "Soil_Type_5                           581012 non-null int64\n",
      "Soil_Type_6                           581012 non-null int64\n",
      "Soil_Type_7                           581012 non-null int64\n",
      "Soil_Type_8                           581012 non-null int64\n",
      "Soil_Type_9                           581012 non-null int64\n",
      "Soil_Type_10                          581012 non-null int64\n",
      "Soil_Type_11                          581012 non-null int64\n",
      "Soil_Type_12                          581012 non-null int64\n",
      "Soil_Type_13                          581012 non-null int64\n",
      "Soil_Type_14                          581012 non-null int64\n",
      "Soil_Type_15                          581012 non-null int64\n",
      "Soil_Type_16                          581012 non-null int64\n",
      "Soil_Type_17                          581012 non-null int64\n",
      "Soil_Type_18                          581012 non-null int64\n",
      "Soil_Type_19                          581012 non-null int64\n",
      "Soil_Type_20                          581012 non-null int64\n",
      "Soil_Type_21                          581012 non-null int64\n",
      "Soil_Type_22                          581012 non-null int64\n",
      "Soil_Type_23                          581012 non-null int64\n",
      "Soil_Type_24                          581012 non-null int64\n",
      "Soil_Type_25                          581012 non-null int64\n",
      "Soil_Type_26                          581012 non-null int64\n",
      "Soil_Type_27                          581012 non-null int64\n",
      "Soil_Type_28                          581012 non-null int64\n",
      "Soil_Type_29                          581012 non-null int64\n",
      "Soil_Type_30                          581012 non-null int64\n",
      "Soil_Type_31                          581012 non-null int64\n",
      "Soil_Type_32                          581012 non-null int64\n",
      "Soil_Type_33                          581012 non-null int64\n",
      "Soil_Type_34                          581012 non-null int64\n",
      "Soil_Type_35                          581012 non-null int64\n",
      "Soil_Type_36                          581012 non-null int64\n",
      "Soil_Type_37                          581012 non-null int64\n",
      "Soil_Type_38                          581012 non-null int64\n",
      "Soil_Type_39                          581012 non-null int64\n",
      "Test                                  581012 non-null bool\n",
      "dtypes: bool(1), int64(54)\n",
      "memory usage: 244.4 MB\n"
     ]
    }
   ],
   "source": [
    "data.info()"
   ]
  },
  {
   "cell_type": "code",
   "execution_count": null,
   "metadata": {
    "collapsed": true
   },
   "outputs": [],
   "source": []
  }
 ],
 "metadata": {
  "kernelspec": {
   "display_name": "Python 3",
   "language": "python",
   "name": "python3"
  },
  "language_info": {
   "codemirror_mode": {
    "name": "ipython",
    "version": 3
   },
   "file_extension": ".py",
   "mimetype": "text/x-python",
   "name": "python",
   "nbconvert_exporter": "python",
   "pygments_lexer": "ipython3",
   "version": "3.5.1"
  }
 },
 "nbformat": 4,
 "nbformat_minor": 0
}
